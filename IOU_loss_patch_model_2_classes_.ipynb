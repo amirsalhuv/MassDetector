{
  "cells": [
    {
      "cell_type": "markdown",
      "metadata": {
        "id": "view-in-github",
        "colab_type": "text"
      },
      "source": [
        "<a href=\"https://colab.research.google.com/github/amirsalhuv/MassDetector/blob/main/IOU_loss_patch_model_2_classes_.ipynb\" target=\"_parent\"><img src=\"https://colab.research.google.com/assets/colab-badge.svg\" alt=\"Open In Colab\"/></a>"
      ]
    },
    {
      "cell_type": "code",
      "execution_count": null,
      "metadata": {
        "colab": {
          "base_uri": "https://localhost:8080/"
        },
        "id": "ryZnpp9nw2g3",
        "outputId": "2c10b1c1-df16-429b-f64e-8a52451cbaa8"
      },
      "outputs": [
        {
          "output_type": "stream",
          "name": "stdout",
          "text": [
            "Mounted at /content/drive\n"
          ]
        }
      ],
      "source": [
        "from google.colab import drive\n",
        "drive.mount('/content/drive')"
      ]
    },
    {
      "cell_type": "markdown",
      "metadata": {
        "id": "U4kVWMnp9rsX"
      },
      "source": [
        "## 1.2 Imports"
      ]
    },
    {
      "cell_type": "code",
      "execution_count": null,
      "metadata": {
        "id": "ijsMtVYX9o7l"
      },
      "outputs": [],
      "source": [
        "####\n",
        "# For image manipulation\n",
        "import cv2\n",
        "from PIL import Image\n",
        "import numpy as np\n",
        "import pandas as pd\n",
        "\n",
        "# Image loading saving, copy ,measuring time\n",
        "import time, json, os\n",
        "import datetime\n",
        "import pickle\n",
        "# For plots\n",
        "import matplotlib.pyplot as plt\n",
        "import shutil\n",
        "from tqdm import tqdm\n",
        "import random\n",
        "\n",
        "# Pytorch\n",
        "import torch\n",
        "from torch.utils.data import DataLoader,Dataset\n",
        "from torch.nn import BCELoss\n",
        "from torchvision.transforms import Compose, ToTensor, Normalize\n",
        "from torch import nn,optim\n",
        "import torch.nn.functional as F\n",
        "from torchvision import models\n",
        "from torchvision import transforms, datasets\n",
        "from sklearn.model_selection import train_test_split\n",
        "from torchvision.models import vgg16_bn, VGG16_BN_Weights"
      ]
    },
    {
      "cell_type": "markdown",
      "metadata": {
        "id": "vJBenbek92QR"
      },
      "source": [
        "# 1.3 Definitions\n"
      ]
    },
    {
      "cell_type": "code",
      "execution_count": null,
      "metadata": {
        "id": "Kfrgs1859zGo"
      },
      "outputs": [],
      "source": [
        "# Amir Salhuv:\n",
        "dataset_dir = '/content/drive/MyDrive/Project_OpenU/CBIS-DDSM/'\n",
        "\n",
        "# Yonatan Salhuv:\n",
        "#dataset_dir = '/content/drive/MyDrive/'\n",
        "\n",
        "data_folder = dataset_dir + 'Latest_model_data/'\n",
        "patches_folder = data_folder + 'Patches/'\n",
        "models_folder = dataset_dir + 'Full_model/Models/'\n",
        "run_mode = \"evaluate_model\"\n",
        "\n",
        "# Classes and batch size\n",
        "n_classes=2\n",
        "batch_size = 16"
      ]
    },
    {
      "cell_type": "markdown",
      "metadata": {
        "id": "fDiH7pHHYY5T"
      },
      "source": [
        "# 3- Prepare the data for the model train\n",
        "1. Cut the relevant patch according to the mask bounding boxes\n",
        "2. store it locally (for as an .npy)\n"
      ]
    },
    {
      "cell_type": "markdown",
      "source": [
        "##3.1 Validation pathces"
      ],
      "metadata": {
        "id": "OAAiY3OTwzsk"
      }
    },
    {
      "cell_type": "code",
      "source": [
        "if run_mode == \"cut_pathces\":\n",
        "\n",
        "  # Define the minimal ROI\n",
        "  min_roi_size = 100\n",
        "\n",
        "  # Padding size\n",
        "  pad = 0\n",
        "\n",
        "  # Create an empty list for validation set\n",
        "  X_val = list()\n",
        "  y_val = list()\n",
        "\n",
        "  # For visulazing the image and mask compared to origin\n",
        "  x_origin = list()\n",
        "  y_origin = list()\n",
        "\n",
        "  # Starting with validation images:\n",
        "  val_image_dir = data_folder +'images/val'\n",
        "  val_mask_dir = data_folder + 'masks/val'\n",
        "  val_list = sorted(os.listdir(val_image_dir))\n",
        "\n",
        "  # Steps:\n",
        "  # 1. take an image\n",
        "  # 2. Cut a window around the mask boundries\n",
        "  # 3. append to whole list\n",
        "\n",
        "  for i,image_path in tqdm(enumerate(val_list)):\n",
        "\n",
        "    # step #1 - read the image and mask\n",
        "    img = cv2.imread(os.path.join(val_image_dir, image_path))\n",
        "    mask = cv2.imread(os.path.join(val_mask_dir, image_path),cv2.IMREAD_GRAYSCALE)*255\n",
        "\n",
        "    # Find contours in the binary image\n",
        "    contours, _ = cv2.findContours(mask, cv2.RETR_EXTERNAL, cv2.CHAIN_APPROX_SIMPLE)\n",
        "\n",
        "    # For each contour, find the bounding rectangle and create a new image\n",
        "    for _, cnt in enumerate(contours):\n",
        "      x, y, w, h = cv2.boundingRect(cnt)\n",
        "      if w*h > min_roi_size:\n",
        "\n",
        "        # add the origin image (so we can later view it)\n",
        "        x_origin.append(image_path)\n",
        "        y_origin.append(image_path)\n",
        "\n",
        "        # Add to train set\n",
        "        X_val.append(cv2.resize(img[max(0,y-pad):min(mask.shape[0]-1,y+h+pad),max(0,x-pad):min(mask.shape[1]-1,x+w+pad),:],(256,256)))\n",
        "        y_val.append(cv2.resize(mask[max(0,y-pad):min(mask.shape[0]-1,y+h+pad),max(0,x-pad):min(mask.shape[1]-1,x+w+pad)],(256,256)))\n",
        "\n",
        "  # Convert and Save the data\n",
        "  X_val = np.array(X_val)\n",
        "  y_val = np.array(y_val)\n",
        "  with open(data_folder + 'X_val.npy', 'wb') as f:\n",
        "    np.save(f, X_val)\n",
        "  with open(data_folder + 'y_val.npy', 'wb') as f:\n",
        "    np.save(f, y_val)\n"
      ],
      "metadata": {
        "id": "TZEmHZQKws8U"
      },
      "execution_count": null,
      "outputs": []
    },
    {
      "cell_type": "code",
      "source": [
        "# Visulize one image\n",
        "if run_mode == \"cut_pathces\":\n",
        "\n",
        "  index = 100\n",
        "  img = cv2.imread(os.path.join(val_image_dir, x_origin[index]))\n",
        "  mask = cv2.imread(os.path.join(val_mask_dir, y_origin[index]))*255\n",
        "  output = [X_val[index],y_val[index],img,mask]\n",
        "  titles = ['patch','mask patch','original image','original mask']\n",
        "  # Plot couple of examples\n",
        "  fig, axs = plt.subplots(nrows=2, ncols=2, figsize=(10,10)) # Define a grid of 2 rows and 3 columns.\n",
        "\n",
        "  for idx, ax in enumerate(axs.flatten()): # axs.flatten() gives us a 1D array to iterate over.\n",
        "      ax.imshow(output[idx], cmap='gray')\n",
        "      ax.set_title(titles[idx])\n",
        "      ax.axis('off')\n",
        "\n",
        "  plt.tight_layout()\n",
        "  plt.show()"
      ],
      "metadata": {
        "id": "8TiXRZ_S8Cub"
      },
      "execution_count": null,
      "outputs": []
    },
    {
      "cell_type": "markdown",
      "source": [
        "## 3.2 Training patches"
      ],
      "metadata": {
        "id": "BjANekWCw88Q"
      }
    },
    {
      "cell_type": "code",
      "source": [
        "if run_mode == \"cut_pathces\":\n",
        "\n",
        "  # Define the minimal ROI\n",
        "  min_roi_size = 100\n",
        "  # Create an empty list for validation set\n",
        "  X_train = list()\n",
        "  y_train = list()\n",
        "\n",
        "  # For visulazing the image and mask compared to origin\n",
        "  x_origin = list()\n",
        "  y_origin = list()\n",
        "\n",
        "  # Train images:\n",
        "  train_image_dir = data_folder +'images/train'\n",
        "  train_mask_dir = data_folder + 'masks/train'\n",
        "  train_list = sorted(os.listdir(train_image_dir))\n",
        "\n",
        "  # Steps:\n",
        "  # 1. take an image\n",
        "  # 2. Cut a window around the mask boundries\n",
        "  # 3. append to whole list\n",
        "\n",
        "  for i,image_path in tqdm(enumerate(train_list)):\n",
        "\n",
        "    # step #1 - read the image and mask\n",
        "    img = cv2.imread(os.path.join(train_image_dir, image_path))\n",
        "    mask = cv2.imread(os.path.join(train_mask_dir, image_path),cv2.IMREAD_GRAYSCALE)*255\n",
        "\n",
        "    # Find contours in the binary image\n",
        "    contours, _ = cv2.findContours(mask, cv2.RETR_EXTERNAL, cv2.CHAIN_APPROX_SIMPLE)\n",
        "\n",
        "    # For each contour, find the bounding rectangle and create a new image\n",
        "    for _, cnt in enumerate(contours):\n",
        "      x, y, w, h = cv2.boundingRect(cnt)\n",
        "      if w*h > min_roi_size:\n",
        "\n",
        "        # add the origin image (so we can later view it)\n",
        "        x_origin.append(image_path)\n",
        "        y_origin.append(image_path)\n",
        "\n",
        "        # Add to train set\n",
        "        X_train.append(cv2.resize(img[max(0,y-pad):min(mask.shape[0]-1,y+h+pad),max(0,x-pad):min(mask.shape[1]-1,x+w+pad),:],(256,256)))\n",
        "        y_train.append(cv2.resize(mask[max(0,y-pad):min(mask.shape[0]-1,y+h+pad),max(0,x-pad):min(mask.shape[1]-1,x+w+pad)],(256,256)))\n",
        "\n",
        "  # Convert and Save the data\n",
        "  X_train = np.array(X_train)\n",
        "  y_train = np.array(y_train)\n",
        "  with open(data_folder + 'X_train.npy', 'wb') as f:\n",
        "    np.save(f, X_train)\n",
        "  with open(data_folder + 'y_train.npy', 'wb') as f:\n",
        "    np.save(f, y_train)\n"
      ],
      "metadata": {
        "id": "VBZUUAxoCXHe"
      },
      "execution_count": null,
      "outputs": []
    },
    {
      "cell_type": "code",
      "source": [
        "# Visulize one image\n",
        "if run_mode == \"cut_pathces\":\n",
        "\n",
        "  index = 100\n",
        "  img = cv2.imread(os.path.join(train_image_dir, x_origin[index]))\n",
        "  mask = cv2.imread(os.path.join(train_mask_dir, y_origin[index]))*255\n",
        "  output = [X_train[index],y_train[index],img,mask]\n",
        "  titles = ['patch','mask patch','original image','original mask']\n",
        "  # Plot couple of examples\n",
        "  fig, axs = plt.subplots(nrows=2, ncols=2, figsize=(10,10)) # Define a grid of 2 rows and 3 columns.\n",
        "\n",
        "  for idx, ax in enumerate(axs.flatten()): # axs.flatten() gives us a 1D array to iterate over.\n",
        "      ax.imshow(output[idx], cmap='gray')\n",
        "      ax.set_title(titles[idx])\n",
        "      ax.axis('off')\n",
        "\n",
        "  plt.tight_layout()\n",
        "  plt.show()"
      ],
      "metadata": {
        "id": "ouMzYhbvMX7n"
      },
      "execution_count": null,
      "outputs": []
    },
    {
      "cell_type": "markdown",
      "source": [
        "# 4- Model architecture"
      ],
      "metadata": {
        "id": "L3UpYVjO7hh3"
      }
    },
    {
      "cell_type": "markdown",
      "metadata": {
        "id": "AqRN-W823ZOQ"
      },
      "source": [
        "## 4.1 Define the Unet block"
      ]
    },
    {
      "cell_type": "code",
      "execution_count": null,
      "metadata": {
        "id": "oqf7KkEVKw3w"
      },
      "outputs": [],
      "source": [
        "if run_mode == 'training_model' or run_mode == 'evaluate_model':\n",
        "\n",
        "  def double_conv(in_channels, out_channels):\n",
        "      return nn.Sequential(\n",
        "          nn.Conv2d(in_channels, out_channels, kernel_size=3, stride=1, padding=1),\n",
        "          nn.BatchNorm2d(out_channels),\n",
        "          nn.ReLU(inplace=True),\n",
        "          nn.Conv2d(out_channels, out_channels, kernel_size=3, stride=1, padding=1),\n",
        "          nn.BatchNorm2d(out_channels),\n",
        "          nn.ReLU(inplace=True)\n",
        "      )\n",
        "\n",
        "\n",
        "  def up_conv(in_channels, out_channels):\n",
        "      return nn.ConvTranspose2d(\n",
        "          in_channels, out_channels, kernel_size=2, stride=2\n",
        "      )\n",
        "\n",
        "\n",
        "  class VGGUnet(nn.Module):\n",
        "    #  VGG-16 (with BN) encoder.\n",
        "\n",
        "      def __init__(self, encoder, *, pretrained=False, out_channels=1):\n",
        "          super().__init__()\n",
        "\n",
        "          self.encoder = encoder(pretrained=pretrained).features\n",
        "          self.block1 = nn.Sequential(*self.encoder[:6])\n",
        "          self.block2 = nn.Sequential(*self.encoder[6:13])\n",
        "          self.block3 = nn.Sequential(*self.encoder[13:20])\n",
        "          self.block4 = nn.Sequential(*self.encoder[20:27])\n",
        "          self.block5 = nn.Sequential(*self.encoder[27:34])\n",
        "\n",
        "          self.bottleneck = nn.Sequential(*self.encoder[34:])\n",
        "          self.conv_bottleneck = double_conv(512, 1024)\n",
        "\n",
        "          self.up_conv6 = up_conv(1024, 512)\n",
        "          self.conv6 = double_conv(512 + 512, 512)\n",
        "          self.up_conv7 = up_conv(512, 256)\n",
        "          self.conv7 = double_conv(256 + 512, 256)\n",
        "          self.up_conv8 = up_conv(256, 128)\n",
        "          self.conv8 = double_conv(128 + 256, 128)\n",
        "          self.up_conv9 = up_conv(128, 64)\n",
        "          self.conv9 = double_conv(64 + 128, 64)\n",
        "          self.up_conv10 = up_conv(64, 32)\n",
        "          self.conv10 = double_conv(32 + 64, 32)\n",
        "          self.conv11 = nn.Conv2d(32, out_channels, kernel_size=1)\n",
        "\n",
        "      def forward(self, x):\n",
        "          block1 = self.block1(x)\n",
        "          block2 = self.block2(block1)\n",
        "          block3 = self.block3(block2)\n",
        "          block4 = self.block4(block3)\n",
        "          block5 = self.block5(block4)\n",
        "\n",
        "          bottleneck = self.bottleneck(block5)\n",
        "          x = self.conv_bottleneck(bottleneck)\n",
        "\n",
        "          x = self.up_conv6(x)\n",
        "          x = torch.cat([x, block5], dim=1)\n",
        "          x = self.conv6(x)\n",
        "\n",
        "          x = self.up_conv7(x)\n",
        "          x = torch.cat([x, block4], dim=1)\n",
        "          x = self.conv7(x)\n",
        "\n",
        "          x = self.up_conv8(x)\n",
        "          x = torch.cat([x, block3], dim=1)\n",
        "          x = self.conv8(x)\n",
        "\n",
        "          x = self.up_conv9(x)\n",
        "          x = torch.cat([x, block2], dim=1)\n",
        "          x = self.conv9(x)\n",
        "\n",
        "          x = self.up_conv10(x)\n",
        "          x = torch.cat([x, block1], dim=1)\n",
        "          x = self.conv10(x)\n",
        "\n",
        "          x = self.conv11(x)\n",
        "\n",
        "          x = torch.sigmoid(x)\n",
        "\n",
        "          return x"
      ]
    },
    {
      "cell_type": "markdown",
      "metadata": {
        "id": "f3-iuh0M3d_S"
      },
      "source": [
        "## 4.2 Define the loss function"
      ]
    },
    {
      "cell_type": "markdown",
      "source": [
        "### 4.2.1 Option 1 - iou loss"
      ],
      "metadata": {
        "id": "G6CpJFMJ92DD"
      }
    },
    {
      "cell_type": "code",
      "execution_count": null,
      "metadata": {
        "id": "ScNvxT4Z2ATp"
      },
      "outputs": [],
      "source": [
        "if run_mode == 'training_model':\n",
        "\n",
        "  def iou_loss(pred, target):\n",
        "      smooth = 1.0\n",
        "      print(f'shapes: pred {pred.shape} target {target.shape}')\n",
        "      iflat = pred.view(-1)\n",
        "      tflat = target.view(-1)\n",
        "      intersection = (iflat * tflat).sum()\n",
        "      return 1 - ((intersection + smooth) / (iflat.sum() + tflat.sum() - intersection + smooth))"
      ]
    },
    {
      "cell_type": "markdown",
      "source": [
        "### 4.2.2 Option 2 - iou loss per image with penalty"
      ],
      "metadata": {
        "id": "bBMEfoC597D7"
      }
    },
    {
      "cell_type": "code",
      "execution_count": null,
      "metadata": {
        "id": "Ls3nkZunhPZA"
      },
      "outputs": [],
      "source": [
        "if run_mode == 'training_model':\n",
        "\n",
        "  # Training loss function\n",
        "  '''\n",
        "  def iou_per_image(pred, target, smooth=1.0, epsilon=1e-3,min_iou= 0.7):\n",
        "      pred = pred.view(pred.shape[0], -1)  # Flatten each image separately\n",
        "      target = target.view(target.shape[0], -1)  # Flatten each image separately\n",
        "\n",
        "      intersection = (pred * target).sum(dim=1)  # Compute intersection per image\n",
        "      union = (pred + target).sum(dim=1) - intersection  # Compute union per image\n",
        "\n",
        "      # Calculate the IOU per image\n",
        "      iou_per_image = (intersection + smooth) / (union + smooth)  # Compute IoU per image\n",
        "\n",
        "      # Add the penalty for zero intersection\n",
        "      for i,_ in enumerate(iou_per_image):\n",
        "        if torch.mean(iou_per_image) > min_iou:\n",
        "          #print(torch.mean(iou_per_image))\n",
        "          if iou_per_image[i] < epsilon:\n",
        "            # Assign a value that match the entire batch value\n",
        "            iou_per_image[i] = -1*iou_per_image.size(0)//8\n",
        "\n",
        "      # Return the average per all images in batch\n",
        "      iou = torch.mean(iou_per_image)\n",
        "\n",
        "      return 1 - iou  # Return IoU loss per image'''\n",
        "\n",
        "  # Validation loss function\n",
        "  def iou_loss_per_image(pred, target, smooth=1.0):\n",
        "      pred = pred.view(pred.shape[0], -1)  # Flatten each image separately\n",
        "      target = target.view(target.shape[0], -1)  # Flatten each image separately\n",
        "\n",
        "      intersection = (pred * target).sum(dim=1)  # Compute intersection per image\n",
        "      union = (pred + target).sum(dim=1) - intersection  # Compute union per image\n",
        "\n",
        "      # Calculate the IOU per image\n",
        "      iou_per_image = (intersection + smooth) / (union + smooth)  # Compute IoU per image\n",
        "\n",
        "      # Return the average per all images in batch\n",
        "      iou = torch.mean(iou_per_image)\n",
        "\n",
        "      return 1-iou  # Return 1-IoU as loss per image"
      ]
    },
    {
      "cell_type": "markdown",
      "metadata": {
        "id": "GKJz08xq3g63"
      },
      "source": [
        "## 5.3 Define the dataloader"
      ]
    },
    {
      "cell_type": "code",
      "execution_count": null,
      "metadata": {
        "id": "34-vnSLW2Yvz"
      },
      "outputs": [],
      "source": [
        "if run_mode == 'training_model' or run_mode == 'evaluate_model':\n",
        "\n",
        "  #Assuming image/mask is from shape (256,256,C1/C2)\n",
        "  class CustomDataset(Dataset):\n",
        "      def __init__(self, images, masks, train=True):\n",
        "\n",
        "          self.images = images\n",
        "          self.masks = masks\n",
        "          self.train = train\n",
        "\n",
        "        # In training, apply the following transformations\n",
        "          self.train_image_transforms = transforms.Compose([\n",
        "              transforms.Resize((224, 224)), # Resize to fit VGG16 input shape\n",
        "              transforms.ToTensor(),\n",
        "              transforms.Normalize(mean=[0.485, 0.456, 0.406], std=[0.229, 0.224, 0.225]), # VGG16 normalization\n",
        "              transforms.RandomHorizontalFlip(),\n",
        "              transforms.RandomVerticalFlip(),\n",
        "              transforms.RandomRotation(90),\n",
        "          ])\n",
        "\n",
        "          # In training, apply the following transformations (including random transformation)\n",
        "          self.train_mask_transforms = transforms.Compose([\n",
        "\n",
        "              transforms.Resize((224, 224)),\n",
        "              transforms.ToTensor(),\n",
        "              transforms.RandomHorizontalFlip(),\n",
        "              transforms.RandomVerticalFlip(),\n",
        "              transforms.RandomRotation(90),\n",
        "          ])\n",
        "\n",
        "          # In training, apply the following transformations (Excluding random transformation)\n",
        "          self.test_image_transforms = transforms.Compose([\n",
        "              transforms.Resize((224, 224)),\n",
        "              transforms.ToTensor(),\n",
        "              transforms.Normalize(mean=[0.485, 0.456, 0.406], std=[0.229, 0.224, 0.225]),\n",
        "          ] )\n",
        "\n",
        "          # In testing, apply the following transformations (Excluding random transformation)\n",
        "          self.test_mask_transforms = transforms.Compose([\n",
        "              transforms.Resize((224, 224)),\n",
        "              transforms.ToTensor(),\n",
        "          ])\n",
        "\n",
        "      def __len__(self):\n",
        "          return len(self.images)\n",
        "\n",
        "      def __getitem__(self, idx):\n",
        "\n",
        "          # Get the image index\n",
        "          #image = self.images[idx]*255\n",
        "          image = self.images[idx]\n",
        "\n",
        "          # Convert the numpy array to a PIL Image\n",
        "          image = Image.fromarray(image.astype('uint8'))\n",
        "\n",
        "          # Get the corresponding mask index (need to reshape to (256,256) to convert to PIL later\n",
        "          #mask = self.masks[idx] *255\n",
        "          mask = self.masks[idx]\n",
        "\n",
        "          # convert to fit to PIL image (256,256,1)-> (256,256)\n",
        "          #mask = mask.squeeze()\n",
        "\n",
        "          # convert to PIL image (not before updating from [0,1] to [0,255]), it will be normalized later\n",
        "          mask = Image.fromarray(mask.astype('uint8'))\n",
        "\n",
        "          if self.train:\n",
        "\n",
        "              # make a seed with numpy generator\n",
        "              seed = np.random.randint(2147483647)\n",
        "              random.seed(seed)\n",
        "              torch.manual_seed(seed)\n",
        "              image = self.train_image_transforms(image)\n",
        "\n",
        "              random.seed(seed)\n",
        "              torch.manual_seed(seed)\n",
        "              mask = self.train_mask_transforms(mask)\n",
        "\n",
        "          else:\n",
        "              image = self.test_image_transforms(image)\n",
        "              mask = self.test_mask_transforms(mask)\n",
        "\n",
        "          return image, mask\n",
        "\n",
        "\n",
        "  # Load X and y from pickle files\n",
        "\n",
        "  X_train = np.load(data_folder + 'X_train.npy')\n",
        "  y_train = np.load(data_folder + 'y_train.npy')\n",
        "  X_val = np.load(data_folder + 'X_val.npy')\n",
        "  y_val = np.load(data_folder + 'y_val.npy')\n",
        "\n",
        "\n",
        "  train_dataset = CustomDataset(X_train, y_train, train=True)\n",
        "  val_dataset = CustomDataset(X_val, y_val, train=False)\n",
        "\n",
        "  train_loader = DataLoader(train_dataset, batch_size=batch_size, shuffle=True)\n",
        "  val_loader = DataLoader(val_dataset, batch_size=batch_size, shuffle=False)"
      ]
    },
    {
      "cell_type": "code",
      "execution_count": null,
      "metadata": {
        "id": "gnVWNQYpkL25"
      },
      "outputs": [],
      "source": [
        "if run_mode == 'testing_dataloader':\n",
        "  # define the transform\n",
        "  train_image_transforms = transforms.Compose([\n",
        "    transforms.Resize((256, 256)), # Resize to fit VGG16 input shape\n",
        "    transforms.ToTensor(),\n",
        "    transforms.Normalize(mean=[0.485, 0.456, 0.406], std=[0.229, 0.224, 0.225]), # VGG16 normalization\n",
        "    transforms.RandomHorizontalFlip(),\n",
        "    transforms.RandomVerticalFlip(),\n",
        "    transforms.RandomRotation(100),\n",
        "\n",
        "  ])\n",
        "\n",
        "  # Load the image and convert to PIL image\n",
        "  # Convert array to Image\n",
        "  #image= X[0]*255\n",
        "  image= X_train[0]\n",
        "  img = Image.fromarray(image.astype('uint8'))\n",
        "  img2= img\n",
        "\n",
        "  # make a seed with numpy generator\n",
        "  seed = np.random.randint(2147483647)\n",
        "  random.seed(seed)\n",
        "  torch.manual_seed(seed)\n",
        "  img = train_image_transforms(img)\n",
        "\n",
        "  # Assuming your DataLoader returns a batch of images and labels\n",
        "  # we will display the first image from the batch\n",
        "\n",
        "  def unnormalize(tensor):\n",
        "      mean = torch.tensor([0.485, 0.456, 0.406])\n",
        "      std = torch.tensor([0.229, 0.224, 0.225])\n",
        "      for t, m, s in zip(tensor, mean, std):\n",
        "          t.mul_(s).add_(m)\n",
        "      return tensor\n",
        "\n",
        "  img = unnormalize(img)\n",
        "  img = transforms.ToPILImage()(img).convert(\"RGB\")\n",
        "\n",
        "\n",
        "  # In training, apply the following transformations (including random transformation)\n",
        "  train_mask_transforms = transforms.Compose([\n",
        "\n",
        "      transforms.Resize((256, 256)),\n",
        "      transforms.ToTensor(),\n",
        "      transforms.RandomHorizontalFlip(), # todo - return back\n",
        "      transforms.RandomVerticalFlip(),\n",
        "      transforms.RandomRotation(100),\n",
        "  ])\n",
        "\n",
        "  # Convert array to Image\n",
        "  #mask1= y[0] *255\n",
        "  mask1= y_train[0]\n",
        "  mask1 = mask1.reshape((256,256))\n",
        "  mask = Image.fromarray(mask1.astype('uint8'))\n",
        "  random.seed(seed)\n",
        "  torch.manual_seed(seed)\n",
        "  mask = train_mask_transforms(mask)\n",
        "  mask = transforms.ToPILImage()(mask).convert(\"RGB\")\n",
        "\n",
        "\n",
        "  # Create subplots\n",
        "  fig, axs = plt.subplots(1, 4, figsize=(10, 5))  # adjust the size as needed\n",
        "\n",
        "  # Show the images\n",
        "  axs[0].imshow(img)\n",
        "  axs[0].axis('off')  # to hide the axis\n",
        "  axs[0].set_title('Image 1')\n",
        "\n",
        "  axs[1].imshow(img2)\n",
        "  axs[1].axis('off')  # to hide the axis\n",
        "  axs[1].set_title('Image 2')\n",
        "\n",
        "  axs[2].imshow(mask)\n",
        "  axs[2].axis('off')  # to hide the axis\n",
        "  axs[2].set_title('Mask')\n",
        "\n",
        "  axs[3].imshow((np.array(mask))*img)\n",
        "  axs[3].axis('off')  # to hide the axis\n",
        "  axs[3].set_title('Image with Mask')\n",
        "\n",
        "  plt.show()\n"
      ]
    },
    {
      "cell_type": "markdown",
      "metadata": {
        "id": "Imp-a0jL3XSM"
      },
      "source": [
        "# 5.4 train"
      ]
    },
    {
      "cell_type": "markdown",
      "source": [
        "### 5.4.1 Define stop and update learning rate conditions"
      ],
      "metadata": {
        "id": "bVK5NZjB1ra-"
      }
    },
    {
      "cell_type": "code",
      "execution_count": null,
      "metadata": {
        "id": "yHLFuviKHAY8"
      },
      "outputs": [],
      "source": [
        "if run_mode == 'training_model':\n",
        "  NUM_OF_EPOCHS_TO_REDUCE_LR = 50\n",
        "  NUM_OF_EPOCHS_TO_STOP = 100\n",
        "\n",
        "\n",
        "  def model_checkpoint(valid_loss,best_val_loss,epoch,best_epoch,lr,last_lr_update,stop_training=False):\n",
        "    if valid_loss < best_val_loss:\n",
        "\n",
        "      # Imporvement in current validation loss, udpate best epoch\n",
        "      print(f\"Validation was improved, updated best loss: {valid_loss},best_epoch:{epoch},lr:{lr}\\n\")\n",
        "      best_val_loss = valid_loss\n",
        "      best_epoch = epoch\n",
        "      last_lr_update = epoch\n",
        "\n",
        "      # Save the model\n",
        "      torch.save(model.state_dict(), models_folder + 'Patch_model_padding_2_classes.pth')\n",
        "\n",
        "\n",
        "    # Stop training if the validation loss doesn't improve for 10 epochs\n",
        "    else:\n",
        "      if epoch - best_epoch >= NUM_OF_EPOCHS_TO_STOP:\n",
        "        print(f\"No improvement in validation loss for {NUM_OF_EPOCHS_TO_STOP} epochs, stopping.\")\n",
        "        stop_training = True\n",
        "\n",
        "      # If need only to reduce learning rate\n",
        "      elif epoch - last_lr_update >= NUM_OF_EPOCHS_TO_REDUCE_LR:\n",
        "        last_lr_update = epoch\n",
        "        lr/=10\n",
        "        print(f\"No improvement in validation loss for {NUM_OF_EPOCHS_TO_REDUCE_LR} epochs, reducing learning rate to {lr}.\\n\")\n",
        "\n",
        "    return stop_training,best_epoch,best_val_loss,lr,last_lr_update\n"
      ]
    },
    {
      "cell_type": "markdown",
      "source": [
        "### 5.4.2 Metrics"
      ],
      "metadata": {
        "id": "6ZTmivuV12ZR"
      }
    },
    {
      "cell_type": "code",
      "source": [
        "def iou_score(output, target):\n",
        "    smooth = 1e-6\n",
        "    #if torch.is_tensor(output):\n",
        "    #    output = torch.sigmoid(output).data.cpu().numpy()\n",
        "    #if torch.is_tensor(target):\n",
        "    #    target = target.data.cpu().numpy()\n",
        "    output = output.cpu().numpy() > 0.5\n",
        "    target = target.cpu().numpy() > 0.5\n",
        "    intersection = (output & target).sum(axis=(1,2,3))\n",
        "    union = (output | target).sum(axis=(1,2,3))\n",
        "    iou = np.mean((intersection + smooth) / (union + smooth))*output.shape[0]\n",
        "    intersection_over_union = (intersection + smooth) / (union + smooth)\n",
        "    return iou,intersection_over_union\n"
      ],
      "metadata": {
        "id": "4QSVa5iD16cJ"
      },
      "execution_count": null,
      "outputs": []
    },
    {
      "cell_type": "markdown",
      "source": [
        "### 5.4.3 Train the model"
      ],
      "metadata": {
        "id": "8xPnBAlG1qlJ"
      }
    },
    {
      "cell_type": "code",
      "execution_count": null,
      "metadata": {
        "id": "6mj9nPND2VKT"
      },
      "outputs": [],
      "source": [
        "if run_mode == 'training_model':\n",
        "\n",
        "  # Specify device\n",
        "  device = torch.device('cuda' if torch.cuda.is_available() else 'cpu')\n",
        "\n",
        "  # Assume that we are on a CUDA machine, then this should print a CUDA device:\n",
        "  print(f'Working on device={device}')\n",
        "\n",
        "  # Learning rate at start\n",
        "  lr = 0.001\n",
        "\n",
        "  # Define the model\n",
        "  model=  VGGUnet(models.vgg16_bn, pretrained=True, out_channels=1).to(device)\n",
        "\n",
        "  # Define the optimizer\n",
        "  optimizer = optim.Adam(model.parameters(), lr=lr)\n",
        "\n",
        "\n",
        "  def train_model(model, training_loader, valid_loader, n_epochs,lr,batch_size):\n",
        "\n",
        "      # Init all values\n",
        "      best_epoch = 1\n",
        "      valid_loss = 0\n",
        "      best_val_loss = float('inf')\n",
        "      last_lr_update = best_epoch\n",
        "\n",
        "      for epoch in range(n_epochs):\n",
        "          model.train()\n",
        "\n",
        "          train_loss = 0\n",
        "          for images, masks in training_loader:\n",
        "              images = images.to(device)\n",
        "              masks = masks.to(device)\n",
        "\n",
        "              # Forward pass\n",
        "              outputs = model(images)\n",
        "              #loss = iou_loss(outputs, masks)\n",
        "              loss = iou_loss_per_image(outputs, masks)\n",
        "\n",
        "              # Backward and optimize\n",
        "              optimizer.zero_grad()\n",
        "              loss.backward()\n",
        "              optimizer.step()\n",
        "\n",
        "              train_loss += loss.item() * images.size(0)\n",
        "\n",
        "          # validate-the-model\n",
        "          model.eval()\n",
        "          valid_loss = 0\n",
        "          with torch.no_grad():\n",
        "\n",
        "              # Init the list of the scores\n",
        "              iou_scores = []\n",
        "              intersections = []\n",
        "              num_batches = len(val_loader)\n",
        "\n",
        "              # Go over all validation set\n",
        "              for images, masks in valid_loader:\n",
        "                  images = images.to(device)\n",
        "                  masks = masks.to(device)\n",
        "\n",
        "                  outputs = model(images)\n",
        "                  loss = iou_loss_per_image(outputs, masks)\n",
        "                  valid_loss += loss.item() * images.size(0)\n",
        "\n",
        "                  # Metrices\n",
        "                  # Iou\n",
        "                  iou,intersection = iou_score(outputs, masks)\n",
        "                  iou_scores.append(iou)\n",
        "                  intersections.append(intersection)\n",
        "\n",
        "          # Divide the loss*images_in_batch/batch_size with total set to get the average\n",
        "          train_loss = train_loss / len(y_train)\n",
        "\n",
        "          # Divide the loss*images_in_batch/batch_size with total set to get the average\n",
        "          valid_loss = valid_loss / len(y_val)\n",
        "\n",
        "          # Metrices\n",
        "          # Merge the arrays\n",
        "          merged_array = np.concatenate(intersections)\n",
        "          print(f\"number of misdetection: {np.sum(merged_array<0.1)}, misdetection rate: {100*np.sum(merged_array<0.1)/merged_array.shape[0]:.2f}%\")\n",
        "          #print(f\"merged array : {merged_array}\\n\\n\\n\")\n",
        "          print(f'Average IOU: {sum(iou_scores)/len(y_val)}')\n",
        "\n",
        "\n",
        "          # Save/or update the model if needed according to progress\n",
        "          print(f'Epoch {epoch+1}/{n_epochs}, Training Loss: {train_loss}, Validation Loss: {valid_loss}')\n",
        "\n",
        "\n",
        "          ### Model checkpoint ####\n",
        "          stop_training,best_epoch,best_val_loss,lr,last_lr_update = model_checkpoint(valid_loss,best_val_loss,epoch,best_epoch,lr,last_lr_update)\n",
        "\n",
        "          # Update the learning rate if needed\n",
        "          optimizer.param_groups[0]['lr'] = lr\n",
        "\n",
        "          # Check if need to stop training\n",
        "          if stop_training:\n",
        "            break\n",
        "\n",
        "  # choose a suitable value\n",
        "  n_epochs = 1000\n",
        "\n",
        "  # Train the mdoel\n",
        "  train_model(model, train_loader, val_loader, n_epochs,lr,batch_size)"
      ]
    },
    {
      "cell_type": "markdown",
      "metadata": {
        "id": "3KOvO_0P08Q9"
      },
      "source": [
        "## 5.5 Evaluate model"
      ]
    },
    {
      "cell_type": "markdown",
      "metadata": {
        "id": "uPwi5ndw10aL"
      },
      "source": [
        "### 5.5.1 Load the model with its weights"
      ]
    },
    {
      "cell_type": "code",
      "execution_count": null,
      "metadata": {
        "id": "ZTGdOZLq07kO",
        "colab": {
          "base_uri": "https://localhost:8080/"
        },
        "outputId": "e3b60ed8-5aa1-4cbd-c925-75c867394f06"
      },
      "outputs": [
        {
          "output_type": "stream",
          "name": "stderr",
          "text": [
            "/usr/local/lib/python3.10/dist-packages/torchvision/models/_utils.py:208: UserWarning: The parameter 'pretrained' is deprecated since 0.13 and may be removed in the future, please use 'weights' instead.\n",
            "  warnings.warn(\n",
            "/usr/local/lib/python3.10/dist-packages/torchvision/models/_utils.py:223: UserWarning: Arguments other than a weight enum or `None` for 'weights' are deprecated since 0.13 and may be removed in the future. The current behavior is equivalent to passing `weights=VGG16_BN_Weights.IMAGENET1K_V1`. You can also use `weights=VGG16_BN_Weights.DEFAULT` to get the most up-to-date weights.\n",
            "  warnings.warn(msg)\n",
            "Downloading: \"https://download.pytorch.org/models/vgg16_bn-6c64b313.pth\" to /root/.cache/torch/hub/checkpoints/vgg16_bn-6c64b313.pth\n",
            "100%|██████████| 528M/528M [00:07<00:00, 72.7MB/s]\n"
          ]
        }
      ],
      "source": [
        "if run_mode == 'evaluate_model':\n",
        "\n",
        "  # Initialize the model\n",
        "  model_eval = VGGUnet(models.vgg16_bn, pretrained=True, out_channels=1)\n",
        "\n",
        "  # Load the model weights\n",
        "  model_eval.load_state_dict(torch.load(models_folder + 'Patch_model_padding_2_classes.pth'))\n",
        "\n",
        "  # If using a GPU\n",
        "  if torch.cuda.is_available():\n",
        "    model_eval = model_eval.cuda()\n",
        "\n",
        "  # Set the model to evaluation mode if you're doing inference\n",
        "  model_eval.eval()"
      ]
    },
    {
      "cell_type": "markdown",
      "metadata": {
        "id": "pYa-yW2F14g7"
      },
      "source": [
        "### 5.5.2 evaluate the model"
      ]
    },
    {
      "cell_type": "code",
      "source": [
        "if run_mode == 'evaluate_model':\n",
        "\n",
        "  def dice_score(output, target, smooth=1e-6):\n",
        "    output = output.cpu().numpy() > 0.5\n",
        "    target = target.cpu().numpy() > 0.5\n",
        "    intersection = (output & target).sum((1,2,3))\n",
        "    union = (output | target).sum((1,2,3))\n",
        "    dice = (2. * intersection + smooth) / (output.sum((1,2,3)) + target.sum((1,2,3)) + smooth)\n",
        "    return dice\n",
        "\n",
        "  def iou_score(output, target):\n",
        "      smooth = 1e-6\n",
        "      #if torch.is_tensor(output):\n",
        "      #    output = torch.sigmoid(output).data.cpu().numpy()\n",
        "      #if torch.is_tensor(target):\n",
        "      #    target = target.data.cpu().numpy()\n",
        "      output = output.cpu().numpy() > 0.5\n",
        "      target = target.cpu().numpy() > 0.5\n",
        "      intersection = (output & target).sum(axis=(1,2,3))\n",
        "      union = (output | target).sum(axis=(1,2,3))\n",
        "      return (intersection + smooth) / (union + smooth),intersection"
      ],
      "metadata": {
        "id": "AwLUMxHVSYsk"
      },
      "execution_count": null,
      "outputs": []
    },
    {
      "cell_type": "code",
      "execution_count": null,
      "metadata": {
        "id": "spOFvYiz169_",
        "colab": {
          "base_uri": "https://localhost:8080/",
          "height": 392
        },
        "outputId": "08cd88c8-2077-4032-9494-e8e87bc06f06"
      },
      "outputs": [
        {
          "output_type": "display_data",
          "data": {
            "text/plain": [
              "<Figure size 1200x600 with 3 Axes>"
            ],
            "image/png": "[encoded data removed]"
          },
          "metadata": {}
        },
        {
          "output_type": "stream",
          "name": "stdout",
          "text": [
            "Average IoU score on validation set: 0.8900807048106488\n",
            "Average Dice score on validation set: 0.9406660582486042\n"
          ]
        }
      ],
      "source": [
        "if run_mode == 'evaluate_model':\n",
        "\n",
        "  from sklearn.metrics import jaccard_score\n",
        "\n",
        "  # Function to return back\n",
        "  def unnormalize(tensor):\n",
        "      mean = torch.tensor([0.485, 0.456, 0.406])\n",
        "      std = torch.tensor([0.229, 0.224, 0.225])\n",
        "      for t, m, s in zip(tensor, mean, std):\n",
        "          t.mul_(s).add_(m)\n",
        "      return tensor\n",
        "\n",
        "  iou_scores = []\n",
        "  intersections = []\n",
        "  num_batches = len(val_loader)\n",
        "  dice_scores = []\n",
        "  accuracies = []\n",
        "\n",
        "  with torch.no_grad():\n",
        "      for i, (inputs, targets) in enumerate(val_loader):\n",
        "          inputs = inputs.to('cuda')\n",
        "          targets = targets.to('cuda')\n",
        "          outputs = model_eval(inputs)\n",
        "          iou,intersection = iou_score(outputs, targets)\n",
        "          iou_scores.append(iou.mean()*len(inputs))\n",
        "          intersections.append(intersection)\n",
        "\n",
        "          dice = dice_score(outputs, targets)\n",
        "          dice_scores.append(dice.mean()*len(inputs))\n",
        "\n",
        "          accuracy = ((outputs.cpu().numpy() > 0.5) == targets.cpu().numpy()).mean()\n",
        "          accuracies.append(accuracy*len(inputs))\n",
        "\n",
        "          # dice\n",
        "\n",
        "          # Plot the first input and output of the first batch\n",
        "          index = 2\n",
        "          if i == 1:\n",
        "              fig, ax = plt.subplots(1, 3, figsize=(12, 6))\n",
        "              img = unnormalize(inputs[index].cpu())\n",
        "              ax[0].imshow(img.permute(1, 2, 0))\n",
        "              ax[0].title.set_text('Input')\n",
        "              ax[1].imshow(targets[index].cpu().squeeze(),cmap = 'gray')\n",
        "              ax[1].title.set_text('Ground Truth')\n",
        "              ax[2].imshow(outputs[index].cpu().squeeze() > 0.5,cmap = 'gray')\n",
        "              ax[2].title.set_text('Predicted')\n",
        "              plt.show()\n",
        "\n",
        "  print(f'Average IoU score on validation set: {sum(iou_scores) / len(y_val)}')\n",
        "  print(f'Average Dice score on validation set: {sum(dice_scores) / len(y_val)}')"
      ]
    },
    {
      "cell_type": "code",
      "source": [
        "if run_mode == 'evaluate_model':\n"
      ],
      "metadata": {
        "id": "d67P2_SoXYEg"
      },
      "execution_count": null,
      "outputs": []
    }
  ],
  "metadata": {
    "colab": {
      "machine_shape": "hm",
      "provenance": [],
      "gpuType": "T4",
      "include_colab_link": true
    },
    "kernelspec": {
      "display_name": "Python 3",
      "name": "python3"
    },
    "language_info": {
      "name": "python"
    },
    "accelerator": "GPU"
  },
  "nbformat": 4,
  "nbformat_minor": 0
}